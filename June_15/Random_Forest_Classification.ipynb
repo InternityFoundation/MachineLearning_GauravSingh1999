{
  "nbformat": 4,
  "nbformat_minor": 0,
  "metadata": {
    "colab": {
      "name": "Random_Forest_Classification.ipynb",
      "provenance": [],
      "collapsed_sections": [],
      "toc_visible": true,
      "machine_shape": "hm"
    },
    "kernelspec": {
      "name": "python3",
      "display_name": "Python 3"
    }
  },
  "cells": [
    {
      "cell_type": "markdown",
      "metadata": {
        "id": "0MRC0e0KhQ0S",
        "colab_type": "text"
      },
      "source": [
        "# Random Forest Classification"
      ]
    },
    {
      "cell_type": "markdown",
      "metadata": {
        "id": "LWd1UlMnhT2s",
        "colab_type": "text"
      },
      "source": [
        "## Importing the libraries"
      ]
    },
    {
      "cell_type": "code",
      "metadata": {
        "id": "YvGPUQaHhXfL",
        "colab_type": "code",
        "colab": {}
      },
      "source": [
        "import numpy as np\n",
        "import matplotlib.pyplot as plt\n",
        "import pandas as pd"
      ],
      "execution_count": 0,
      "outputs": []
    },
    {
      "cell_type": "code",
      "metadata": {
        "id": "M52QDmyzhh9s",
        "colab_type": "code",
        "colab": {}
      },
      "source": [
        "dataset = pd.read_csv('DMV_Written_Tests.csv')\n",
        "X = dataset.iloc[:, :-1].values\n",
        "y = dataset.iloc[:, -1].values"
      ],
      "execution_count": 0,
      "outputs": []
    },
    {
      "cell_type": "markdown",
      "metadata": {
        "id": "YvxIPVyMhmKp",
        "colab_type": "text"
      },
      "source": [
        "## Splitting the dataset into the Training set and Test set"
      ]
    },
    {
      "cell_type": "code",
      "metadata": {
        "id": "AVzJWAXIhxoC",
        "colab_type": "code",
        "colab": {}
      },
      "source": [
        "from sklearn.model_selection import train_test_split\n",
        "X_train, X_test, y_train, y_test = train_test_split(X, y, test_size = 0.25, random_state = 0)"
      ],
      "execution_count": 0,
      "outputs": []
    },
    {
      "cell_type": "code",
      "metadata": {
        "id": "P3nS3-6r1i2B",
        "colab_type": "code",
        "outputId": "738bf371-49c5-45b9-eddd-3dd7d0c0cdf3",
        "colab": {
          "base_uri": "https://localhost:8080/",
          "height": 1000
        }
      },
      "source": [
        "print(X_train)"
      ],
      "execution_count": 4,
      "outputs": [
        {
          "output_type": "stream",
          "text": [
            "[[62.0730638  96.76882412]\n",
            " [61.10666454 96.51142588]\n",
            " [74.775893   89.5298129 ]\n",
            " [67.31925747 66.58935318]\n",
            " [47.26426911 88.475865  ]\n",
            " [75.39561147 85.75993667]\n",
            " [88.91389642 69.8037889 ]\n",
            " [94.09433113 77.15910509]\n",
            " [80.27957401 92.11606081]\n",
            " [99.27252693 60.999031  ]\n",
            " [93.1143888  38.80067034]\n",
            " [70.66150955 92.92713789]\n",
            " [97.64563396 68.86157272]\n",
            " [30.05882245 49.59297387]\n",
            " [58.84095622 75.85844831]\n",
            " [30.28671077 43.89499752]\n",
            " [35.28611282 47.02051395]\n",
            " [94.44336777 65.56892161]\n",
            " [51.54772027 46.85629026]\n",
            " [79.03273605 75.34437644]\n",
            " [53.97105215 89.20735014]\n",
            " [67.94685548 46.67857411]\n",
            " [83.90239366 56.30804622]\n",
            " [74.78925296 41.57341523]\n",
            " [45.08327748 56.31637178]\n",
            " [90.44855097 87.50879176]\n",
            " [71.79646206 78.45356225]\n",
            " [34.62365962 78.02469282]\n",
            " [40.23689374 71.16774802]\n",
            " [61.83020602 50.25610789]\n",
            " [79.94481794 74.16311935]\n",
            " [75.01365839 30.60326323]\n",
            " [54.63510555 52.21388588]\n",
            " [34.21206098 44.2095286 ]\n",
            " [90.54671411 43.39060181]\n",
            " [95.86155507 38.22527806]\n",
            " [85.40451939 57.05198398]\n",
            " [40.45755098 97.53518549]\n",
            " [32.57720017 95.59854761]\n",
            " [82.22666158 42.71987854]\n",
            " [68.46852179 85.5943071 ]\n",
            " [52.10797973 63.12762377]\n",
            " [80.366756   90.9601479 ]\n",
            " [39.53833914 76.03681085]\n",
            " [52.34800399 60.76950526]\n",
            " [76.97878373 47.57596365]\n",
            " [38.7858038  64.99568096]\n",
            " [91.5649745  88.69629255]\n",
            " [99.31500881 68.77540947]\n",
            " [55.34001756 64.93193801]\n",
            " [66.74671857 60.99139403]\n",
            " [67.37202755 42.83843832]\n",
            " [89.84580671 45.35828361]\n",
            " [72.34649423 96.22759297]\n",
            " [50.4581598  75.80985953]\n",
            " [62.27101367 69.95445795]\n",
            " [64.17698887 80.90806059]\n",
            " [94.83450672 45.6943068 ]\n",
            " [77.19303493 70.4582    ]\n",
            " [34.18364003 75.23772034]\n",
            " [66.56089447 41.09209808]\n",
            " [74.24869137 69.82457123]\n",
            " [82.30705337 76.4819633 ]\n",
            " [78.63542435 96.64742717]\n",
            " [32.72283304 43.30717306]\n",
            " [75.47770201 90.424539  ]\n",
            " [33.91550011 98.86943574]\n",
            " [89.67677575 65.79936593]\n",
            " [57.23870632 59.51428198]\n",
            " [84.43281996 43.53339331]\n",
            " [42.26170081 87.10385094]\n",
            " [49.07256322 51.88321182]\n",
            " [44.66826172 66.45008615]\n",
            " [97.77159928 86.72782233]\n",
            " [51.04775177 45.82270146]]\n"
          ],
          "name": "stdout"
        }
      ]
    },
    {
      "cell_type": "code",
      "metadata": {
        "id": "8dpDLojm1mVG",
        "colab_type": "code",
        "outputId": "423bc546-2f5c-4739-9b60-2a66656cc28d",
        "colab": {
          "base_uri": "https://localhost:8080/",
          "height": 68
        }
      },
      "source": [
        "print(y_train)"
      ],
      "execution_count": 5,
      "outputs": [
        {
          "output_type": "stream",
          "text": [
            "[1 1 1 1 1 1 1 1 1 1 0 1 1 0 1 0 0 1 0 1 1 0 1 0 0 1 1 0 0 0 1 0 0 0 1 0 1\n",
            " 1 0 0 1 0 1 0 0 1 0 1 1 1 1 0 1 1 1 1 1 1 1 0 0 1 1 1 0 1 0 1 1 1 1 0 0 1\n",
            " 0]\n"
          ],
          "name": "stdout"
        }
      ]
    },
    {
      "cell_type": "code",
      "metadata": {
        "id": "qbb7i0DH1qui",
        "colab_type": "code",
        "outputId": "d3ad5f98-817e-4f5a-a2c0-ad2d41ed3f6c",
        "colab": {
          "base_uri": "https://localhost:8080/",
          "height": 442
        }
      },
      "source": [
        "print(X_test)"
      ],
      "execution_count": 6,
      "outputs": [
        {
          "output_type": "stream",
          "text": [
            "[[80.19018075 44.82162893]\n",
            " [42.07545454 78.844786  ]\n",
            " [35.84740877 72.90219803]\n",
            " [49.58667722 59.80895099]\n",
            " [99.8278578  72.36925193]\n",
            " [74.49269242 84.84513685]\n",
            " [69.07014406 52.74046973]\n",
            " [60.45788574 73.0949981 ]\n",
            " [50.28649612 49.80453881]\n",
            " [83.48916274 48.3802858 ]\n",
            " [34.52451385 60.39634246]\n",
            " [55.48216114 35.57070347]\n",
            " [60.45555629 42.50840944]\n",
            " [69.36458876 97.71869196]\n",
            " [75.02474557 46.55401354]\n",
            " [61.37928945 72.80788731]\n",
            " [50.53478829 48.85581153]\n",
            " [77.92409145 68.97235999]\n",
            " [52.04540477 69.43286012]\n",
            " [76.0987867  87.42056972]\n",
            " [82.36875376 40.61825516]\n",
            " [56.2538175  39.26147251]\n",
            " [60.18259939 86.3085521 ]\n",
            " [64.03932042 78.03168802]\n",
            " [62.22267576 52.06099195]]\n"
          ],
          "name": "stdout"
        }
      ]
    },
    {
      "cell_type": "code",
      "metadata": {
        "id": "kj1hnFAR1s5w",
        "colab_type": "code",
        "outputId": "43297655-d2d4-45f3-e550-8129a0ae1730",
        "colab": {
          "base_uri": "https://localhost:8080/",
          "height": 34
        }
      },
      "source": [
        "print(y_test)"
      ],
      "execution_count": 7,
      "outputs": [
        {
          "output_type": "stream",
          "text": [
            "[1 0 0 0 1 1 1 1 0 1 0 0 0 1 1 1 0 1 1 1 0 0 1 1 0]\n"
          ],
          "name": "stdout"
        }
      ]
    },
    {
      "cell_type": "markdown",
      "metadata": {
        "id": "kW3c7UYih0hT",
        "colab_type": "text"
      },
      "source": [
        "## Feature Scaling"
      ]
    },
    {
      "cell_type": "code",
      "metadata": {
        "id": "9fQlDPKCh8sc",
        "colab_type": "code",
        "colab": {}
      },
      "source": [
        "from sklearn.preprocessing import StandardScaler\n",
        "sc = StandardScaler()\n",
        "X_train = sc.fit_transform(X_train)\n",
        "X_test = sc.transform(X_test)"
      ],
      "execution_count": 0,
      "outputs": []
    },
    {
      "cell_type": "code",
      "metadata": {
        "id": "syrnD1Op2BSR",
        "colab_type": "code",
        "outputId": "16c09ed2-665c-41a8-d095-ec30868d1105",
        "colab": {
          "base_uri": "https://localhost:8080/",
          "height": 1000
        }
      },
      "source": [
        "print(X_train)"
      ],
      "execution_count": 9,
      "outputs": [
        {
          "output_type": "stream",
          "text": [
            "[[-0.21231162  1.56561722]\n",
            " [-0.25955531  1.55187648]\n",
            " [ 0.40868272  1.17917568]\n",
            " [ 0.04415538 -0.04545932]\n",
            " [-0.93625882  1.12291258]\n",
            " [ 0.43897846  0.97792765]\n",
            " [ 1.09983741  0.12613752]\n",
            " [ 1.3530897   0.51878779]\n",
            " [ 0.67773732  1.31723786]\n",
            " [ 1.60623254 -0.34388858]\n",
            " [ 1.30518395 -1.52890797]\n",
            " [ 0.20754573  1.36053574]\n",
            " [ 1.52669976  0.07583901]\n",
            " [-1.77736947 -0.95278034]\n",
            " [-0.37031741  0.44935458]\n",
            " [-1.76622885 -1.25695651]\n",
            " [-1.52182658 -1.09010646]\n",
            " [ 1.37015281 -0.09993322]\n",
            " [-0.72685674 -1.09887325]\n",
            " [ 0.61678403  0.42191178]\n",
            " [-0.608389    1.16196159]\n",
            " [ 0.07483633 -1.1083603 ]\n",
            " [ 0.85484358 -0.59430833]\n",
            " [ 0.40933583 -1.38088999]\n",
            " [-1.04287944 -0.59386388]\n",
            " [ 1.174861    1.07128712]\n",
            " [ 0.26302936  0.58789005]\n",
            " [-1.55421147  0.56499563]\n",
            " [-1.27980121  0.19895002]\n",
            " [-0.22418404 -0.91738012]\n",
            " [ 0.66137234  0.3588525 ]\n",
            " [ 0.42030619 -1.96651174]\n",
            " [-0.57592589 -0.81286768]\n",
            " [-1.574333   -1.24016584]\n",
            " [ 1.17965983 -1.28388277]\n",
            " [ 1.43948275 -1.55962424]\n",
            " [ 0.92827695 -0.55459455]\n",
            " [-1.26901409  1.60652804]\n",
            " [-1.6542553   1.50314413]\n",
            " [ 0.77292323 -1.31968812]\n",
            " [ 0.10033867  0.96908582]\n",
            " [-0.69946772 -0.2302575 ]\n",
            " [ 0.68199933  1.25553153]\n",
            " [-1.31395096  0.45887614]\n",
            " [-0.68773383 -0.35614139]\n",
            " [ 0.5163739  -1.06045478]\n",
            " [-1.35073963 -0.13053464]\n",
            " [ 1.22943881  1.13467971]\n",
            " [ 1.60830933  0.07123934]\n",
            " [-0.54146535 -0.13393744]\n",
            " [ 0.01616607 -0.34429626]\n",
            " [ 0.04673512 -1.31335902]\n",
            " [ 1.14539506 -1.17884163]\n",
            " [ 0.28991839  1.53672458]\n",
            " [-0.78012132  0.44676075]\n",
            " [-0.20263458  0.13418072]\n",
            " [-0.10945851  0.71891901]\n",
            " [ 1.38927415 -1.16090364]\n",
            " [ 0.52684784  0.16107208]\n",
            " [-1.5757224   0.41621814]\n",
            " [ 0.00708182 -1.40658424]\n",
            " [ 0.38290978  0.12724695]\n",
            " [ 0.77685329  0.4826398 ]\n",
            " [ 0.59736093  1.55913667]\n",
            " [-1.64713585 -1.28833646]\n",
            " [ 0.44299156  1.22693902]\n",
            " [-1.58883077  1.67775458]\n",
            " [ 1.13713176 -0.08763137]\n",
            " [-0.44864548 -0.42314922]\n",
            " [ 0.88077416 -1.2762601 ]\n",
            " [-1.18081588  1.04967009]\n",
            " [-0.84785801 -0.83052012]\n",
            " [-1.06316802 -0.05289384]\n",
            " [ 1.53285774  1.02959648]\n",
            " [-0.75129835 -1.15404952]]\n"
          ],
          "name": "stdout"
        }
      ]
    },
    {
      "cell_type": "code",
      "metadata": {
        "id": "JUd6iBRp2C3L",
        "colab_type": "code",
        "outputId": "64da9222-3888-4628-da3d-16fd132fd0dd",
        "colab": {
          "base_uri": "https://localhost:8080/",
          "height": 442
        }
      },
      "source": [
        "print(X_test)"
      ],
      "execution_count": 10,
      "outputs": [
        {
          "output_type": "stream",
          "text": [
            "[[ 0.67336722 -1.20748997]\n",
            " [-1.18992077  0.60877482]\n",
            " [-1.4943869   0.2915405 ]\n",
            " [-0.82272488 -0.40741885]\n",
            " [ 1.63338062  0.26309013]\n",
            " [ 0.39483809  0.92909271]\n",
            " [ 0.12974975 -0.78475695]\n",
            " [-0.2912717   0.30183278]\n",
            " [-0.78851332 -0.94148632]\n",
            " [ 0.83464225 -1.0175175 ]\n",
            " [-1.55905834 -0.37606202]\n",
            " [-0.53451647 -1.70133391]\n",
            " [-0.29138558 -1.33097701]\n",
            " [ 0.14414407  1.6163242 ]\n",
            " [ 0.4208482  -1.11500974]\n",
            " [-0.24622768  0.28650589]\n",
            " [-0.77637523 -0.99213242]\n",
            " [ 0.56258649  0.08175319]\n",
            " [-0.70252678  0.10633616]\n",
            " [ 0.4733541   1.06657755]\n",
            " [ 0.77986959 -1.43187948]\n",
            " [-0.49679305 -1.50430888]\n",
            " [-0.30472943  1.00721449]\n",
            " [-0.11618861  0.56536905]\n",
            " [-0.20499765 -0.82102965]]\n"
          ],
          "name": "stdout"
        }
      ]
    },
    {
      "cell_type": "markdown",
      "metadata": {
        "id": "bb6jCOCQiAmP",
        "colab_type": "text"
      },
      "source": [
        "## Training the Random Forest Classification model on the Training set"
      ]
    },
    {
      "cell_type": "code",
      "metadata": {
        "id": "e0pFVAmciHQs",
        "colab_type": "code",
        "outputId": "9d94d871-0ca5-4327-f3c8-7c25e69d158a",
        "colab": {
          "base_uri": "https://localhost:8080/",
          "height": 153
        }
      },
      "source": [
        "from sklearn.ensemble import RandomForestClassifier\n",
        "classifier = RandomForestClassifier(n_estimators = 10, criterion = 'entropy', random_state = 0)\n",
        "classifier.fit(X_train, y_train)"
      ],
      "execution_count": 11,
      "outputs": [
        {
          "output_type": "execute_result",
          "data": {
            "text/plain": [
              "RandomForestClassifier(bootstrap=True, ccp_alpha=0.0, class_weight=None,\n",
              "                       criterion='entropy', max_depth=None, max_features='auto',\n",
              "                       max_leaf_nodes=None, max_samples=None,\n",
              "                       min_impurity_decrease=0.0, min_impurity_split=None,\n",
              "                       min_samples_leaf=1, min_samples_split=2,\n",
              "                       min_weight_fraction_leaf=0.0, n_estimators=10,\n",
              "                       n_jobs=None, oob_score=False, random_state=0, verbose=0,\n",
              "                       warm_start=False)"
            ]
          },
          "metadata": {
            "tags": []
          },
          "execution_count": 11
        }
      ]
    },
    {
      "cell_type": "markdown",
      "metadata": {
        "id": "yyxW5b395mR2",
        "colab_type": "text"
      },
      "source": [
        "## Predicting a new result"
      ]
    },
    {
      "cell_type": "code",
      "metadata": {
        "id": "f8YOXsQy58rP",
        "colab_type": "code",
        "outputId": "5813355d-76a8-422e-c2ab-c6763929834d",
        "colab": {
          "base_uri": "https://localhost:8080/",
          "height": 34
        }
      },
      "source": [
        "print(classifier.predict(sc.transform([[60,70]])))"
      ],
      "execution_count": 13,
      "outputs": [
        {
          "output_type": "stream",
          "text": [
            "[1]\n"
          ],
          "name": "stdout"
        }
      ]
    },
    {
      "cell_type": "markdown",
      "metadata": {
        "id": "vKYVQH-l5NpE",
        "colab_type": "text"
      },
      "source": [
        "## Predicting the Test set results"
      ]
    },
    {
      "cell_type": "code",
      "metadata": {
        "id": "p6VMTb2O4hwM",
        "colab_type": "code",
        "outputId": "72dbcf00-fa26-4955-dcd9-de6290c86e91",
        "colab": {
          "base_uri": "https://localhost:8080/",
          "height": 442
        }
      },
      "source": [
        "y_pred = classifier.predict(X_test)\n",
        "print(np.concatenate((y_pred.reshape(len(y_pred),1), y_test.reshape(len(y_test),1)),1))"
      ],
      "execution_count": 14,
      "outputs": [
        {
          "output_type": "stream",
          "text": [
            "[[1 1]\n",
            " [1 0]\n",
            " [0 0]\n",
            " [0 0]\n",
            " [1 1]\n",
            " [1 1]\n",
            " [1 1]\n",
            " [1 1]\n",
            " [0 0]\n",
            " [1 1]\n",
            " [0 0]\n",
            " [0 0]\n",
            " [0 0]\n",
            " [1 1]\n",
            " [0 1]\n",
            " [1 1]\n",
            " [0 0]\n",
            " [1 1]\n",
            " [0 1]\n",
            " [1 1]\n",
            " [0 0]\n",
            " [0 0]\n",
            " [1 1]\n",
            " [1 1]\n",
            " [0 0]]\n"
          ],
          "name": "stdout"
        }
      ]
    },
    {
      "cell_type": "markdown",
      "metadata": {
        "id": "h4Hwj34ziWQW",
        "colab_type": "text"
      },
      "source": [
        "## Making the Confusion Matrix"
      ]
    },
    {
      "cell_type": "code",
      "metadata": {
        "id": "D6bpZwUiiXic",
        "colab_type": "code",
        "outputId": "af557c1b-d65d-4a7d-e039-a0ca112d01cc",
        "colab": {
          "base_uri": "https://localhost:8080/",
          "height": 68
        }
      },
      "source": [
        "from sklearn.metrics import confusion_matrix, accuracy_score\n",
        "cm = confusion_matrix(y_test, y_pred)\n",
        "print(cm)\n",
        "accuracy_score(y_test, y_pred)"
      ],
      "execution_count": 15,
      "outputs": [
        {
          "output_type": "stream",
          "text": [
            "[[10  1]\n",
            " [ 2 12]]\n"
          ],
          "name": "stdout"
        },
        {
          "output_type": "execute_result",
          "data": {
            "text/plain": [
              "0.88"
            ]
          },
          "metadata": {
            "tags": []
          },
          "execution_count": 15
        }
      ]
    },
    {
      "cell_type": "markdown",
      "metadata": {
        "id": "6OMC_P0diaoD",
        "colab_type": "text"
      },
      "source": [
        "## Visualising the Training set results"
      ]
    },
    {
      "cell_type": "code",
      "metadata": {
        "id": "_NOjKvZRid5l",
        "colab_type": "code",
        "outputId": "8117b8ab-4628-43f1-86ad-5c85f50186c4",
        "colab": {
          "base_uri": "https://localhost:8080/",
          "height": 349
        }
      },
      "source": [
        "from matplotlib.colors import ListedColormap\n",
        "X_set, y_set = sc.inverse_transform(X_train), y_train\n",
        "X1, X2 = np.meshgrid(np.arange(start = X_set[:, 0].min() - 10, stop = X_set[:, 0].max() , step = 0.25),\n",
        "                     np.arange(start = X_set[:, 1].min() - 1000, stop = X_set[:, 1].max() + 1000, step = 0.25))\n",
        "plt.contourf(X1, X2, classifier.predict(sc.transform(np.array([X1.ravel(), X2.ravel()]).T)).reshape(X1.shape),\n",
        "             alpha = 0.75, cmap = ListedColormap(('red', 'green')))\n",
        "plt.xlim(X1.min(), X1.max())\n",
        "plt.ylim(X2.min(), X2.max())\n",
        "for i, j in enumerate(np.unique(y_set)):\n",
        "    plt.scatter(X_set[y_set == j, 0], X_set[y_set == j, 1], c = ListedColormap(('red', 'green'))(i), label = j)\n",
        "plt.title('Random Forest Classification (Training set)')\n",
        "plt.xlabel('Test 1')\n",
        "plt.ylabel('Test 2')\n",
        "plt.legend()\n",
        "plt.show()"
      ],
      "execution_count": 18,
      "outputs": [
        {
          "output_type": "stream",
          "text": [
            "'c' argument looks like a single numeric RGB or RGBA sequence, which should be avoided as value-mapping will have precedence in case its length matches with 'x' & 'y'.  Please use a 2-D array with a single row if you really want to specify the same RGB or RGBA value for all points.\n",
            "'c' argument looks like a single numeric RGB or RGBA sequence, which should be avoided as value-mapping will have precedence in case its length matches with 'x' & 'y'.  Please use a 2-D array with a single row if you really want to specify the same RGB or RGBA value for all points.\n"
          ],
          "name": "stderr"
        },
        {
          "output_type": "display_data",
          "data": {
            "image/png": "[encoded data removed]",
            "text/plain": [
              "<Figure size 432x288 with 1 Axes>"
            ]
          },
          "metadata": {
            "tags": [],
            "needs_background": "light"
          }
        }
      ]
    },
    {
      "cell_type": "markdown",
      "metadata": {
        "id": "SZ-j28aPihZx",
        "colab_type": "text"
      },
      "source": [
        "## Visualising the Test set results"
      ]
    },
    {
      "cell_type": "code",
      "metadata": {
        "id": "qeTjz2vDilAC",
        "colab_type": "code",
        "outputId": "c805b5e3-fc5d-4ecf-fcc5-bf2fdbc64d33",
        "colab": {
          "base_uri": "https://localhost:8080/",
          "height": 349
        }
      },
      "source": [
        "from matplotlib.colors import ListedColormap\n",
        "X_set, y_set = sc.inverse_transform(X_test), y_test\n",
        "X1, X2 = np.meshgrid(np.arange(start = X_set[:, 0].min() - 10, stop = X_set[:, 0].max() , step = 0.25),\n",
        "                     np.arange(start = X_set[:, 1].min() - 1000, stop = X_set[:, 1].max() + 1000, step = 0.25))\n",
        "plt.contourf(X1, X2, classifier.predict(sc.transform(np.array([X1.ravel(), X2.ravel()]).T)).reshape(X1.shape),\n",
        "             alpha = 0.75, cmap = ListedColormap(('red', 'green')))\n",
        "plt.xlim(X1.min(), X1.max())\n",
        "plt.ylim(X2.min(), X2.max())\n",
        "for i, j in enumerate(np.unique(y_set)):\n",
        "    plt.scatter(X_set[y_set == j, 0], X_set[y_set == j, 1], c = ListedColormap(('red', 'green'))(i), label = j)\n",
        "plt.title('Random Forest Classification (Test set)')\n",
        "plt.xlabel('Test 1')\n",
        "plt.ylabel('Test 2')\n",
        "plt.legend()\n",
        "plt.show()"
      ],
      "execution_count": 19,
      "outputs": [
        {
          "output_type": "stream",
          "text": [
            "'c' argument looks like a single numeric RGB or RGBA sequence, which should be avoided as value-mapping will have precedence in case its length matches with 'x' & 'y'.  Please use a 2-D array with a single row if you really want to specify the same RGB or RGBA value for all points.\n",
            "'c' argument looks like a single numeric RGB or RGBA sequence, which should be avoided as value-mapping will have precedence in case its length matches with 'x' & 'y'.  Please use a 2-D array with a single row if you really want to specify the same RGB or RGBA value for all points.\n"
          ],
          "name": "stderr"
        },
        {
          "output_type": "display_data",
          "data": {
            "image/png": "[encoded data removed]",
            "text/plain": [
              "<Figure size 432x288 with 1 Axes>"
            ]
          },
          "metadata": {
            "tags": [],
            "needs_background": "light"
          }
        }
      ]
    }
  ]
}